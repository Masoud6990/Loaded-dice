{
  "metadata": {
    "kernelspec": {
      "name": "python",
      "display_name": "Python (Pyodide)",
      "language": "python"
    },
    "language_info": {
      "codemirror_mode": {
        "name": "python",
        "version": 3
      },
      "file_extension": ".py",
      "mimetype": "text/x-python",
      "name": "python",
      "nbconvert_exporter": "python",
      "pygments_lexer": "ipython3",
      "version": "3.8"
    }
  },
  "nbformat_minor": 5,
  "nbformat": 4,
  "cells": [
    {
      "id": "4caafec3",
      "cell_type": "markdown",
      "source": "# Loaded dice ",
      "metadata": {}
    },
    {
      "id": "da0fcf2f",
      "cell_type": "code",
      "source": "import numpy as np\nimport pandas as pd\nimport seaborn as sns\nimport matplotlib.pyplot as plt\nimport utils",
      "metadata": {},
      "outputs": [],
      "execution_count": 1
    },
    {
      "id": "309a3457",
      "cell_type": "code",
      "source": "dice = [1,2,3,4,5,6]\nsum_results = []\nnumber_iterations = 1000\n# Setting a random seed just for reproducibility\nnp.random.seed(42)\n\nfor i in range(number_iterations):\n    # Throw the first dice\n    throw_1 = np.random.choice(dice)\n    # Throw the second dice\n    throw_2 = np.random.choice(dice)\n    # Sum the result\n    sum_throw = throw_1 + throw_2\n    # Append to the sum_result list\n    sum_results.append(sum_throw)\n\ngreater_5_count = 0\n\nfor x in sum_results:\n    if x > 5:\n        greater_5_count += 1\n\nprobability = greater_5_count/len(sum_results)    \nprint(f\"The probability by this simulation is: {probability}\")",
      "metadata": {},
      "outputs": [
        {
          "name": "stdout",
          "output_type": "stream",
          "text": [
            "The probability by this simulation is: 0.719\n"
          ]
        }
      ],
      "execution_count": 2
    },
    {
      "id": "df437e8e",
      "cell_type": "code",
      "source": "print(\"Mean:\",np.mean([1/6,1/6,1/6,1/6,1/6,1/6]))\nprint(\"Variance:\",np.var([1/6,1/6,1/6,1/6,1/6,1/6]))",
      "metadata": {},
      "outputs": [
        {
          "name": "stdout",
          "output_type": "stream",
          "text": [
            "Mean: 0.16666666666666666\n",
            "Variance: 0.0\n"
          ]
        }
      ],
      "execution_count": 53
    },
    {
      "id": "e9a8b2ed",
      "cell_type": "code",
      "source": "dice=[1,2,3,4,5,6]\nnp.random.seed(42)\nList_of_sumss=[]\nnum_iteration=100000\nfor i in range(num_iteration):\n    throw1=np.random.choice(dice)\n    throw2=np.random.choice(dice)\n    sum_dice=throw1+throw2\n    List_of_sumss.append(sum_dice)\nSet_of_sumss=set(List_of_sumss)",
      "metadata": {},
      "outputs": [],
      "execution_count": 6
    },
    {
      "id": "63dcda78",
      "cell_type": "code",
      "source": "Set_of_sumss_list=list(Set_of_sumss)\nprint(Set_of_sumss_list)",
      "metadata": {},
      "outputs": [
        {
          "name": "stdout",
          "output_type": "stream",
          "text": [
            "[2, 3, 4, 5, 6, 7, 8, 9, 10, 11, 12]\n"
          ]
        }
      ],
      "execution_count": 7
    },
    {
      "id": "849fdc21",
      "cell_type": "code",
      "source": "frequency_word=[]\nfor i in Set_of_sumss:\n    \n    frequency_word.append(List_of_sumss.count(i))\n\nprint(frequency_word)",
      "metadata": {},
      "outputs": [
        {
          "name": "stdout",
          "output_type": "stream",
          "text": [
            "[2772, 5546, 8218, 11221, 13966, 16593, 13865, 11143, 8319, 5560, 2797]\n"
          ]
        }
      ],
      "execution_count": 8
    },
    {
      "id": "9ec34d54",
      "cell_type": "code",
      "source": "plt.bar(Set_of_sumss_list, frequency_word, color='blue', label='Set Points')",
      "metadata": {},
      "outputs": [
        {
          "data": {
            "text/plain": [
              "<BarContainer object of 11 artists>"
            ]
          },
          "execution_count": 9,
          "metadata": {},
          "output_type": "execute_result"
        },
        {
          "data": {
            "image/png": "[encoded data removed]",
            "text/plain": [
              "<Figure size 640x480 with 1 Axes>"
            ]
          },
          "metadata": {},
          "output_type": "display_data"
        }
      ],
      "execution_count": 9
    },
    {
      "id": "342ca685",
      "cell_type": "code",
      "source": "def word_fre(Set_of_sums,List_of_sums):\n    frequency_word=[]\n    for i in Set_of_sums:\n        frequency_word.append(List_of_sums.count(i))\n    return frequency_word\n    print(frequency_word)",
      "metadata": {},
      "outputs": [],
      "execution_count": 56
    },
    {
      "id": "cef239fa",
      "cell_type": "code",
      "source": "dice=[1,2,3,4]\nnp.random.seed(42)\nList_of_sums=[]\nList_of_throw1=[]\nList_of_throw2=[]\nnum_iteration=100000\nfor i in range(num_iteration):\n    throw1=np.random.choice(dice)\n    List_of_throw1.append(throw1)\n    throw2=np.random.choice(dice)\n    List_of_throw2.append(throw2)\n    sum_dice=throw1+throw2\n    List_of_sums.append(sum_dice)\nSet_of_sums=set(List_of_sums)\nword_fre2=word_fre(Set_of_sums,List_of_sums)\n",
      "metadata": {},
      "outputs": [],
      "execution_count": 58
    },
    {
      "id": "30f9711a",
      "cell_type": "code",
      "source": "Prob=[]\nfor i in range(len(word_fre2)):\n    Prob.append(word_fre2[i]/iterations)\nprint(Set_of_sums)\nprint(Prob)",
      "metadata": {},
      "outputs": [
        {
          "name": "stdout",
          "output_type": "stream",
          "text": [
            "{2, 3, 4, 5, 6, 7, 8}\n",
            "[0.06251, 0.12549, 0.18864, 0.2507, 0.18727, 0.12337, 0.06202]\n"
          ]
        }
      ],
      "execution_count": 59
    },
    {
      "id": "f4eadc3c",
      "cell_type": "code",
      "source": "print(\"Mean:\",np.mean(list(Set_of_sums)))\nprint(\"Variance:\",np.var(list(Set_of_sums)))\nprint(\"Covariance between first and second row:\",np.cov(List_of_throw1,List_of_throw2))",
      "metadata": {},
      "outputs": [
        {
          "name": "stdout",
          "output_type": "stream",
          "text": [
            "Mean: 5.0\n",
            "Variance: 4.0\n",
            "Covariance between first and second row: [[ 1.25544996 -0.00550886]\n",
            " [-0.00550886  1.24766256]]\n"
          ]
        }
      ],
      "execution_count": 12
    },
    {
      "id": "a35573ec",
      "cell_type": "code",
      "source": "dice2=[1,2,2,3,4]\nnp.random.seed(42)\nList_of_sums=[]\niterations=100000\nfor i in range(iterations):\n    throw1=np.random.choice(dice2)\n    throw2=np.random.choice(dice2)\n    List_of_sums.append(throw1+throw2)\nSet_of_sums=set(List_of_sums)\nSet_of_sums_list=list(Set_of_sums)\nword_fre2=word_fre(Set_of_sums,List_of_sums)",
      "metadata": {},
      "outputs": [],
      "execution_count": 61
    },
    {
      "id": "bdedfe88",
      "cell_type": "code",
      "source": "plt.bar(Set_of_sums_list,word_fre2)",
      "metadata": {},
      "outputs": [
        {
          "data": {
            "text/plain": [
              "<BarContainer object of 7 artists>"
            ]
          },
          "execution_count": 15,
          "metadata": {},
          "output_type": "execute_result"
        },
        {
          "data": {
            "image/png": "[encoded data removed]",
            "text/plain": [
              "<Figure size 640x480 with 1 Axes>"
            ]
          },
          "metadata": {},
          "output_type": "display_data"
        }
      ],
      "execution_count": 15
    },
    {
      "id": "10feaaa8",
      "cell_type": "code",
      "source": "# You can use this cell for your calculations (not graded)\ndice2=[1,2,3,3,4,5,6]\nnp.random.seed(42)\nList_of_sums=[]\niterations=100000\nfor i in range(iterations):\n    throw1=np.random.choice(dice2)\n    throw2=np.random.choice(dice2)\n    List_of_sums.append(throw1+throw2)\nSet_of_sums=set(List_of_sums)\nSet_of_sums_list=list(Set_of_sums)\nword_fre2=word_fre(Set_of_sums,List_of_sums)",
      "metadata": {},
      "outputs": [],
      "execution_count": 16
    },
    {
      "id": "48a80344",
      "cell_type": "code",
      "source": "Prob=[]\nfor i in range(len(word_fre2)):\n    Prob.append(word_fre2[i]/iterations)\n    \nprint(Prob)",
      "metadata": {},
      "outputs": [
        {
          "name": "stdout",
          "output_type": "stream",
          "text": [
            "[0.02044, 0.04033, 0.10133, 0.12413, 0.16117, 0.16486, 0.14219, 0.12126, 0.06312, 0.04088, 0.02029]\n"
          ]
        }
      ],
      "execution_count": 17
    },
    {
      "id": "58db2bff",
      "cell_type": "code",
      "source": "Set_of_sums_list",
      "metadata": {},
      "outputs": [
        {
          "data": {
            "text/plain": [
              "[2, 3, 4, 5, 6, 7, 8, 9, 10, 11, 12]"
            ]
          },
          "execution_count": 18,
          "metadata": {},
          "output_type": "execute_result"
        }
      ],
      "execution_count": 18
    },
    {
      "id": "1ef5b107",
      "cell_type": "code",
      "source": "def CDF_fn(Set_of_sums_list,Prob):\n    Prob_CDF=[]\n    sum=0\n    for j in range(len(Set_of_sums_list)):\n        sum+=Prob[j]\n        Prob_CDF.append(sum)\n    return Prob_CDF",
      "metadata": {},
      "outputs": [],
      "execution_count": 33
    },
    {
      "id": "7f746103",
      "cell_type": "code",
      "source": "CDF=CDF_fn(Set_of_sums_list,Prob)",
      "metadata": {},
      "outputs": [],
      "execution_count": 34
    },
    {
      "id": "5df143e7",
      "cell_type": "code",
      "source": "def index_finder(CDF,limit):\n    for i in range(len(CDF)):\n        if CDF[i]>limit:\n            break\n    return CDF[i-1]",
      "metadata": {},
      "outputs": [],
      "execution_count": 47
    },
    {
      "id": "1eb19e8f",
      "cell_type": "code",
      "source": "index_finder(CDF,0.5)",
      "metadata": {},
      "outputs": [
        {
          "data": {
            "text/plain": [
              "0.4474"
            ]
          },
          "execution_count": 48,
          "metadata": {},
          "output_type": "execute_result"
        }
      ],
      "execution_count": 48
    },
    {
      "id": "1a8c0e0a",
      "cell_type": "code",
      "source": "CDF_fn(Set_of_sums_list,Prob).index(0.4474)",
      "metadata": {},
      "outputs": [
        {
          "data": {
            "text/plain": [
              "4"
            ]
          },
          "execution_count": 54,
          "metadata": {},
          "output_type": "execute_result"
        }
      ],
      "execution_count": 54
    },
    {
      "id": "17d57af2",
      "cell_type": "code",
      "source": "Set_of_sums_list[CDF_fn(Set_of_sums_list,Prob).index(index_finder(CDF,0.5))]",
      "metadata": {},
      "outputs": [
        {
          "data": {
            "text/plain": [
              "6"
            ]
          },
          "execution_count": 55,
          "metadata": {},
          "output_type": "execute_result"
        }
      ],
      "execution_count": 55
    },
    {
      "id": "9e64d178",
      "cell_type": "code",
      "source": "dice=[1,2,3,4,5,6]\nnp.random.seed(42)\nList_of_sums=[]\niterations=1000\nfor i in range(iterations):\n    throw1=np.random.choice(dice2)\n    if throw1 >3:\n        throw2=0\n    else:\n        throw2=np.random.choice(dice2)\n    List_of_sums.append(throw1+throw2)\nSet_of_sums=set(List_of_sums)\nSet_of_sums_list=list(Set_of_sums)\nword_fre2=word_fre(Set_of_sums,List_of_sums)\n",
      "metadata": {},
      "outputs": [],
      "execution_count": 61
    },
    {
      "id": "9480375f",
      "cell_type": "code",
      "source": "plt.bar(Set_of_sums_list,word_fre2)",
      "metadata": {},
      "outputs": [
        {
          "data": {
            "text/plain": [
              "<BarContainer object of 8 artists>"
            ]
          },
          "execution_count": 62,
          "metadata": {},
          "output_type": "execute_result"
        },
        {
          "data": {
            "image/png": "[encoded data removed]",
            "text/plain": [
              "<Figure size 640x480 with 1 Axes>"
            ]
          },
          "metadata": {},
          "output_type": "display_data"
        }
      ],
      "execution_count": 62
    },
    {
      "id": "4d25300f",
      "cell_type": "code",
      "source": "dice=[1,2,3,4,5,6]\nnp.random.seed(42)\nList_of_sums=[]\niterations=100000\nfor i in range(iterations):\n    throw1=np.random.choice(dice)\n    if throw1 >=3:\n        throw2=np.random.choice(dice)\n    else:\n        throw2=0\n    List_of_sums.append(throw1+throw2)\nSet_of_sums=set(List_of_sums)\nSet_of_sums_list=list(Set_of_sums)\nword_fre3=word_fre(Set_of_sums,List_of_sums)\nprint(Set_of_sums_list)",
      "metadata": {},
      "outputs": [
        {
          "name": "stdout",
          "output_type": "stream",
          "text": [
            "[1, 2, 4, 5, 6, 7, 8, 9, 10, 11, 12]\n"
          ]
        }
      ],
      "execution_count": 86
    },
    {
      "id": "a7939e2a",
      "cell_type": "code",
      "source": "plt.bar(Set_of_sums_list,word_fre3)",
      "metadata": {},
      "outputs": [
        {
          "data": {
            "text/plain": [
              "<BarContainer object of 11 artists>"
            ]
          },
          "execution_count": 87,
          "metadata": {},
          "output_type": "execute_result"
        },
        {
          "data": {
            "image/png": "[encoded data removed]",
            "text/plain": [
              "<Figure size 640x480 with 1 Axes>"
            ]
          },
          "metadata": {},
          "output_type": "display_data"
        }
      ],
      "execution_count": 87
    },
    {
      "id": "645a9b74",
      "cell_type": "code",
      "source": "dice=[1,2,3,4,5,6,7]\nnp.random.seed(42)\nList_of_sums=[]\nList_of_throw1=[]\nList_of_throw2=[]\nnum_iteration=100000\nfor i in range(num_iteration):\n    throw1=np.random.choice(dice)\n    List_of_throw1.append(throw1)\n    throw2=np.random.choice(dice)\n    List_of_throw2.append(throw2)\n    sum_dice=throw1+throw2\n    List_of_sums.append(sum_dice)\nSet_of_sums=set(List_of_sums)\nword_fre(Set_of_sums,List_of_sums)\nprint(\"Mean:\",np.mean(list(Set_of_sums)))\nprint(\"Variance:\",np.var(list(Set_of_sums)))\nprint(\"Covariance between first and second row:\",np.cov(List_of_throw1,List_of_throw2))",
      "metadata": {},
      "outputs": [
        {
          "name": "stdout",
          "output_type": "stream",
          "text": [
            "Mean: 8.0\n",
            "Variance: 14.0\n",
            "Covariance between first and second row: [[3.99559915e+00 1.97786978e-04]\n",
            " [1.97786978e-04 4.00705525e+00]]\n"
          ]
        }
      ],
      "execution_count": 88
    },
    {
      "id": "008c5858",
      "cell_type": "code",
      "source": "# You can use this cell for your calculations (not graded)\ndice=[1,2,3,4,5,6,6]\nnp.random.seed(42)\nList_of_sums=[]\nList_of_throw1=[]\nList_of_throw2=[]\nnum_iteration=100000\nfor i in range(num_iteration):\n    throw1=np.random.choice(dice)\n    List_of_throw1.append(throw1)\n    throw2=np.random.choice(dice)\n    List_of_throw2.append(throw2)\n    sum_dice=throw1+throw2\n    List_of_sums.append(sum_dice)\nSet_of_sums=set(List_of_sums)\nword_fre2=word_fre(Set_of_sums,List_of_sums)\nSet_of_sums_list=list(Set_of_sums)\nProb=[]\nfor i in range(len(word_fre2)):\n    Prob.append(word_fre2[i]/iterations)\nprint(Set_of_sums)\nprint(Prob)\nprint(\"Mean:\",np.mean(list(Prob)))\nprint(\"Variance:\",np.var(list(Prob)))\nprint(\"Covariance between first and second row:\",np.cov(List_of_throw1,List_of_throw2))\n#Set_of_sums_list\nplt.bar(Set_of_sums_list,Prob)",
      "metadata": {},
      "outputs": [
        {
          "name": "stdout",
          "output_type": "stream",
          "text": [
            "{2, 3, 4, 5, 6, 7, 8, 9, 10, 11, 12}\n",
            "[0.02044, 0.04033, 0.06041, 0.08209, 0.10277, 0.16275, 0.14272, 0.12185, 0.10216, 0.08242, 0.08206]\n",
            "Mean: 0.09090909090909091\n",
            "Variance: 0.001613869971900827\n",
            "Covariance between first and second row: [[ 3.26104867e+00 -5.69157692e-05]\n",
            " [-5.69157692e-05  3.26990988e+00]]\n"
          ]
        },
        {
          "data": {
            "text/plain": [
              "<BarContainer object of 11 artists>"
            ]
          },
          "execution_count": 48,
          "metadata": {},
          "output_type": "execute_result"
        },
        {
          "data": {
            "image/png": "[encoded data removed]",
            "text/plain": [
              "<Figure size 640x480 with 1 Axes>"
            ]
          },
          "metadata": {},
          "output_type": "display_data"
        }
      ],
      "execution_count": 48
    }
  ]
}